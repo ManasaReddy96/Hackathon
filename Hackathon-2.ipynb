{
 "cells": [
  {
   "cell_type": "code",
   "execution_count": 1,
   "id": "432bba81",
   "metadata": {},
   "outputs": [],
   "source": [
    "import numpy as np\n",
    "import pandas as pd\n",
    "import seaborn as sns\n",
    "import matplotlib.pyplot as plt\n",
    "import requests\n",
    "from bs4 import BeautifulSoup\n",
    "import re\n"
   ]
  },
  {
   "cell_type": "code",
   "execution_count": 2,
   "id": "a4503b5c",
   "metadata": {},
   "outputs": [],
   "source": [
    "data=pd.read_csv(r\"C:\\Users\\user\\Downloads\\movie_data\\movies.csv\")"
   ]
  },
  {
   "cell_type": "code",
   "execution_count": 3,
   "id": "f314d523",
   "metadata": {},
   "outputs": [],
   "source": [
    "data=data.copy()"
   ]
  },
  {
   "cell_type": "code",
   "execution_count": 4,
   "id": "ea645a1f",
   "metadata": {},
   "outputs": [
    {
     "data": {
      "text/plain": [
       "(9742, 3)"
      ]
     },
     "execution_count": 4,
     "metadata": {},
     "output_type": "execute_result"
    }
   ],
   "source": [
    "data.shape"
   ]
  },
  {
   "cell_type": "code",
   "execution_count": 5,
   "id": "d718ba72",
   "metadata": {},
   "outputs": [],
   "source": [
    "data2=pd.read_csv(r\"C:\\Users\\user\\Downloads\\movie_data\\ratings.csv\")"
   ]
  },
  {
   "cell_type": "code",
   "execution_count": 6,
   "id": "a1a9ca1d",
   "metadata": {},
   "outputs": [],
   "source": [
    "data2=data2.copy()"
   ]
  },
  {
   "cell_type": "code",
   "execution_count": 7,
   "id": "ce60bce1",
   "metadata": {},
   "outputs": [
    {
     "data": {
      "text/plain": [
       "(100836, 4)"
      ]
     },
     "execution_count": 7,
     "metadata": {},
     "output_type": "execute_result"
    }
   ],
   "source": [
    "data2.shape"
   ]
  },
  {
   "cell_type": "code",
   "execution_count": 8,
   "id": "1d862c5a",
   "metadata": {},
   "outputs": [
    {
     "data": {
      "text/plain": [
       "Index(['userId', 'movieId', 'rating', 'timestamp'], dtype='object')"
      ]
     },
     "execution_count": 8,
     "metadata": {},
     "output_type": "execute_result"
    }
   ],
   "source": [
    "data2.columns"
   ]
  },
  {
   "cell_type": "code",
   "execution_count": 9,
   "id": "ed0bcc7d",
   "metadata": {},
   "outputs": [
    {
     "data": {
      "text/plain": [
       "Index(['movieId', 'title', 'genres'], dtype='object')"
      ]
     },
     "execution_count": 9,
     "metadata": {},
     "output_type": "execute_result"
    }
   ],
   "source": [
    "data.columns"
   ]
  },
  {
   "cell_type": "code",
   "execution_count": 13,
   "id": "4b55186e",
   "metadata": {},
   "outputs": [],
   "source": [
    "df=pd.merge(data,data2,on=\"movieId\")"
   ]
  },
  {
   "cell_type": "code",
   "execution_count": 11,
   "id": "4d348915",
   "metadata": {},
   "outputs": [],
   "source": [
    "max_rating_movie=df.loc[df[\"rating\"].idxmax()][\"title\"]"
   ]
  },
  {
   "cell_type": "code",
   "execution_count": 12,
   "id": "708c1e35",
   "metadata": {},
   "outputs": [
    {
     "data": {
      "text/plain": [
       "'Toy Story (1995)'"
      ]
     },
     "execution_count": 12,
     "metadata": {},
     "output_type": "execute_result"
    }
   ],
   "source": [
    "max_rating_movie"
   ]
  },
  {
   "cell_type": "markdown",
   "id": "a590b9a4",
   "metadata": {},
   "source": [
    "plt.figure(figsize=(10, 6))\n",
    "sns.barplot(x='title', y='rating', data=df, palette='viridis')\n",
    "plt.title('Number of User Ratings for Each Movie')\n",
    "plt.xlabel('Movie')\n",
    "plt.ylabel('Number of User Ratings')\n",
    "plt.show()"
   ]
  },
  {
   "cell_type": "code",
   "execution_count": 16,
   "id": "056ea941",
   "metadata": {},
   "outputs": [
    {
     "data": {
      "text/plain": [
       "'Toy Story (1995)'"
      ]
     },
     "execution_count": 16,
     "metadata": {},
     "output_type": "execute_result"
    }
   ],
   "source": [
    "df[\"title\"].loc[df[\"rating\"].idxmax()]"
   ]
  },
  {
   "cell_type": "code",
   "execution_count": 19,
   "id": "74662356",
   "metadata": {},
   "outputs": [],
   "source": [
    "max_ratings_movie = df.sort_values(by='rating')['title'].iloc[0]"
   ]
  },
  {
   "cell_type": "code",
   "execution_count": 20,
   "id": "b17fa04e",
   "metadata": {},
   "outputs": [
    {
     "data": {
      "text/plain": [
       "'Grease (1978)'"
      ]
     },
     "execution_count": 20,
     "metadata": {},
     "output_type": "execute_result"
    }
   ],
   "source": [
    "max_ratings_movie"
   ]
  },
  {
   "cell_type": "code",
   "execution_count": 31,
   "id": "277bb618",
   "metadata": {},
   "outputs": [],
   "source": [
    "rating_matrix = df[df[\"title\"] == \"Pulp Fiction\"][\"rating\"]"
   ]
  },
  {
   "cell_type": "code",
   "execution_count": 32,
   "id": "85e60016",
   "metadata": {},
   "outputs": [
    {
     "data": {
      "text/plain": [
       "Series([], Name: rating, dtype: float64)"
      ]
     },
     "execution_count": 32,
     "metadata": {},
     "output_type": "execute_result"
    }
   ],
   "source": [
    "rating_matrix"
   ]
  },
  {
   "cell_type": "code",
   "execution_count": 9,
   "id": "f5e531a8",
   "metadata": {},
   "outputs": [],
   "source": [
    "data3=pd.read_csv(r\"C:\\Users\\user\\Downloads\\movie_data\\tags.csv\")"
   ]
  },
  {
   "cell_type": "code",
   "execution_count": 36,
   "id": "e65b5c35",
   "metadata": {},
   "outputs": [
    {
     "data": {
      "text/html": [
       "<div>\n",
       "<style scoped>\n",
       "    .dataframe tbody tr th:only-of-type {\n",
       "        vertical-align: middle;\n",
       "    }\n",
       "\n",
       "    .dataframe tbody tr th {\n",
       "        vertical-align: top;\n",
       "    }\n",
       "\n",
       "    .dataframe thead th {\n",
       "        text-align: right;\n",
       "    }\n",
       "</style>\n",
       "<table border=\"1\" class=\"dataframe\">\n",
       "  <thead>\n",
       "    <tr style=\"text-align: right;\">\n",
       "      <th></th>\n",
       "      <th>userId</th>\n",
       "      <th>movieId</th>\n",
       "      <th>tag</th>\n",
       "      <th>timestamp</th>\n",
       "    </tr>\n",
       "  </thead>\n",
       "  <tbody>\n",
       "    <tr>\n",
       "      <th>0</th>\n",
       "      <td>2</td>\n",
       "      <td>60756</td>\n",
       "      <td>funny</td>\n",
       "      <td>1445714994</td>\n",
       "    </tr>\n",
       "    <tr>\n",
       "      <th>1</th>\n",
       "      <td>2</td>\n",
       "      <td>60756</td>\n",
       "      <td>Highly quotable</td>\n",
       "      <td>1445714996</td>\n",
       "    </tr>\n",
       "    <tr>\n",
       "      <th>2</th>\n",
       "      <td>2</td>\n",
       "      <td>60756</td>\n",
       "      <td>will ferrell</td>\n",
       "      <td>1445714992</td>\n",
       "    </tr>\n",
       "    <tr>\n",
       "      <th>3</th>\n",
       "      <td>2</td>\n",
       "      <td>89774</td>\n",
       "      <td>Boxing story</td>\n",
       "      <td>1445715207</td>\n",
       "    </tr>\n",
       "    <tr>\n",
       "      <th>4</th>\n",
       "      <td>2</td>\n",
       "      <td>89774</td>\n",
       "      <td>MMA</td>\n",
       "      <td>1445715200</td>\n",
       "    </tr>\n",
       "    <tr>\n",
       "      <th>...</th>\n",
       "      <td>...</td>\n",
       "      <td>...</td>\n",
       "      <td>...</td>\n",
       "      <td>...</td>\n",
       "    </tr>\n",
       "    <tr>\n",
       "      <th>3678</th>\n",
       "      <td>606</td>\n",
       "      <td>7382</td>\n",
       "      <td>for katie</td>\n",
       "      <td>1171234019</td>\n",
       "    </tr>\n",
       "    <tr>\n",
       "      <th>3679</th>\n",
       "      <td>606</td>\n",
       "      <td>7936</td>\n",
       "      <td>austere</td>\n",
       "      <td>1173392334</td>\n",
       "    </tr>\n",
       "    <tr>\n",
       "      <th>3680</th>\n",
       "      <td>610</td>\n",
       "      <td>3265</td>\n",
       "      <td>gun fu</td>\n",
       "      <td>1493843984</td>\n",
       "    </tr>\n",
       "    <tr>\n",
       "      <th>3681</th>\n",
       "      <td>610</td>\n",
       "      <td>3265</td>\n",
       "      <td>heroic bloodshed</td>\n",
       "      <td>1493843978</td>\n",
       "    </tr>\n",
       "    <tr>\n",
       "      <th>3682</th>\n",
       "      <td>610</td>\n",
       "      <td>168248</td>\n",
       "      <td>Heroic Bloodshed</td>\n",
       "      <td>1493844270</td>\n",
       "    </tr>\n",
       "  </tbody>\n",
       "</table>\n",
       "<p>3683 rows × 4 columns</p>\n",
       "</div>"
      ],
      "text/plain": [
       "      userId  movieId               tag   timestamp\n",
       "0          2    60756             funny  1445714994\n",
       "1          2    60756   Highly quotable  1445714996\n",
       "2          2    60756      will ferrell  1445714992\n",
       "3          2    89774      Boxing story  1445715207\n",
       "4          2    89774               MMA  1445715200\n",
       "...      ...      ...               ...         ...\n",
       "3678     606     7382         for katie  1171234019\n",
       "3679     606     7936           austere  1173392334\n",
       "3680     610     3265            gun fu  1493843984\n",
       "3681     610     3265  heroic bloodshed  1493843978\n",
       "3682     610   168248  Heroic Bloodshed  1493844270\n",
       "\n",
       "[3683 rows x 4 columns]"
      ]
     },
     "execution_count": 36,
     "metadata": {},
     "output_type": "execute_result"
    }
   ],
   "source": [
    "data3"
   ]
  },
  {
   "cell_type": "code",
   "execution_count": 44,
   "id": "663411b6",
   "metadata": {},
   "outputs": [
    {
     "data": {
      "text/plain": [
       "userId       0\n",
       "movieId      0\n",
       "tag          0\n",
       "timestamp    0\n",
       "dtype: int64"
      ]
     },
     "execution_count": 44,
     "metadata": {},
     "output_type": "execute_result"
    }
   ],
   "source": [
    "data3.isna().sum()"
   ]
  },
  {
   "cell_type": "code",
   "execution_count": 14,
   "id": "f77c11df",
   "metadata": {},
   "outputs": [],
   "source": [
    "df2=pd.merge(df,data3,on=\"movieId\")"
   ]
  },
  {
   "cell_type": "code",
   "execution_count": 47,
   "id": "95aaee36",
   "metadata": {},
   "outputs": [],
   "source": [
    "tags_matrix = df2[df2['title'] == 'Matrix, The (1999)']['tag']"
   ]
  },
  {
   "cell_type": "code",
   "execution_count": 48,
   "id": "c1e0595f",
   "metadata": {},
   "outputs": [
    {
     "data": {
      "text/plain": [
       "142140          martial arts\n",
       "142141                sci-fi\n",
       "142142    alternate universe\n",
       "142143            philosophy\n",
       "142144      post apocalyptic\n",
       "                 ...        \n",
       "143525          martial arts\n",
       "143526                sci-fi\n",
       "143527    alternate universe\n",
       "143528            philosophy\n",
       "143529      post apocalyptic\n",
       "Name: tag, Length: 1390, dtype: object"
      ]
     },
     "execution_count": 48,
     "metadata": {},
     "output_type": "execute_result"
    }
   ],
   "source": [
    "tags_matrix"
   ]
  },
  {
   "cell_type": "code",
   "execution_count": 68,
   "id": "d4babc11",
   "metadata": {},
   "outputs": [
    {
     "data": {
      "text/plain": [
       "1390"
      ]
     },
     "execution_count": 68,
     "metadata": {},
     "output_type": "execute_result"
    }
   ],
   "source": [
    "len(df2[df2['title'] == 'Matrix, The (1999)']['rating'])"
   ]
  },
  {
   "cell_type": "code",
   "execution_count": 69,
   "id": "a43aa852",
   "metadata": {},
   "outputs": [
    {
     "data": {
      "text/plain": [
       "55567"
      ]
     },
     "execution_count": 69,
     "metadata": {},
     "output_type": "execute_result"
    }
   ],
   "source": [
    "len(df2[df2['title'] == 'Pulp Fiction (1994)']['rating'])"
   ]
  },
  {
   "cell_type": "code",
   "execution_count": 70,
   "id": "8fbf220a",
   "metadata": {},
   "outputs": [
    {
     "data": {
      "text/plain": [
       "2961"
      ]
     },
     "execution_count": 70,
     "metadata": {},
     "output_type": "execute_result"
    }
   ],
   "source": [
    "len(df2[df2['title'] == 'Forrest Gump (1994)']['rating'])"
   ]
  },
  {
   "cell_type": "code",
   "execution_count": 71,
   "id": "119b28d0",
   "metadata": {},
   "outputs": [
    {
     "data": {
      "text/plain": [
       "1268"
      ]
     },
     "execution_count": 71,
     "metadata": {},
     "output_type": "execute_result"
    }
   ],
   "source": [
    "len(df2[df2['title'] == 'Shawshank Redemption, The (1994)']['rating'])\n"
   ]
  },
  {
   "cell_type": "code",
   "execution_count": 15,
   "id": "b766e1cd",
   "metadata": {},
   "outputs": [],
   "source": [
    "#What is the average user rating for movie named \"Terminator 2: Judgment Day (1991)\"?\n",
    "average_rating = df2[df2['title'] == 'Terminator 2: Judgment Day (1991)']['rating'].mean()"
   ]
  },
  {
   "cell_type": "code",
   "execution_count": 59,
   "id": "71f7828c",
   "metadata": {},
   "outputs": [
    {
     "data": {
      "text/plain": [
       "3.970982142857143"
      ]
     },
     "execution_count": 59,
     "metadata": {},
     "output_type": "execute_result"
    }
   ],
   "source": [
    "average_rating"
   ]
  },
  {
   "cell_type": "code",
   "execution_count": 60,
   "id": "1132841c",
   "metadata": {},
   "outputs": [],
   "source": [
    "#How does the data distribution of user ratings for \"Fight Club (1999)\" movie looks like?\n",
    "ratings_fight_club = df[df['title'] == 'Fight Club (1999)']['rating']"
   ]
  },
  {
   "cell_type": "code",
   "execution_count": 61,
   "id": "6dde660d",
   "metadata": {},
   "outputs": [
    {
     "data": {
      "text/plain": [
       "49835    5.0\n",
       "49836    2.0\n",
       "49837    0.5\n",
       "49838    2.5\n",
       "49839    3.5\n",
       "        ... \n",
       "50048    5.0\n",
       "50049    4.0\n",
       "50050    5.0\n",
       "50051    5.0\n",
       "50052    5.0\n",
       "Name: rating, Length: 218, dtype: float64"
      ]
     },
     "execution_count": 61,
     "metadata": {},
     "output_type": "execute_result"
    }
   ],
   "source": [
    "ratings_fight_club"
   ]
  },
  {
   "cell_type": "code",
   "execution_count": 64,
   "id": "446b1b30",
   "metadata": {},
   "outputs": [
    {
     "data": {
      "image/png": "[encoded data removed]",
      "text/plain": [
       "<Figure size 800x500 with 1 Axes>"
      ]
     },
     "metadata": {},
     "output_type": "display_data"
    }
   ],
   "source": [
    "plt.figure(figsize=(8, 5))\n",
    "sns.kdeplot(ratings_fight_club)\n",
    "plt.title('User Ratings Distribution for \"Fight Club (1999)\"')\n",
    "plt.xlabel('Rating')\n",
    "plt.ylabel('Frequency')\n",
    "plt.show()"
   ]
  },
  {
   "cell_type": "code",
   "execution_count": 65,
   "id": "4467a6d2",
   "metadata": {},
   "outputs": [],
   "source": [
    "# Mandatory Operations:\n",
    "#1. Group the user ratings based on movieId and apply aggregation operations like count and mean on ratings. \n",
    "#2. Apply inner join on dataframe created from movies.csv and the grouped df from step 1.\n",
    "#3. Filter only those movies which have more than 50 user ratings (i.e. > 50).\n",
    "\n",
    "#Above steps will make sure that your data contains only those movies which has recieved more than 50 user ratings."
   ]
  },
  {
   "cell_type": "code",
   "execution_count": 66,
   "id": "c6282695",
   "metadata": {},
   "outputs": [
    {
     "data": {
      "text/plain": [
       "233213"
      ]
     },
     "execution_count": 66,
     "metadata": {},
     "output_type": "execute_result"
    }
   ],
   "source": [
    "df2[\"rating\"].count()"
   ]
  },
  {
   "cell_type": "code",
   "execution_count": 67,
   "id": "79501f37",
   "metadata": {},
   "outputs": [
    {
     "data": {
      "text/plain": [
       "3.9665348844189645"
      ]
     },
     "execution_count": 67,
     "metadata": {},
     "output_type": "execute_result"
    }
   ],
   "source": [
    "df2[\"rating\"].mean()"
   ]
  },
  {
   "cell_type": "code",
   "execution_count": 16,
   "id": "bcc66d28",
   "metadata": {},
   "outputs": [],
   "source": [
    "rating_len=df2[\"title\"].value_counts()"
   ]
  },
  {
   "cell_type": "code",
   "execution_count": 79,
   "id": "782ee100",
   "metadata": {},
   "outputs": [
    {
     "data": {
      "text/plain": [
       "Pulp Fiction (1994)                                               55567\n",
       "Fight Club (1999)                                                 11772\n",
       "Star Wars: Episode IV - A New Hope (1977)                          6526\n",
       "Léon: The Professional (a.k.a. The Professional) (Léon) (1994)     4655\n",
       "2001: A Space Odyssey (1968)                                       4469\n",
       "                                                                  ...  \n",
       "Going Places (Valseuses, Les) (1974)                                  1\n",
       "Zelary (2003)                                                         1\n",
       "Two Family House (2000)                                               1\n",
       "Flying Down to Rio (1933)                                             1\n",
       "Personal Velocity (2002)                                              1\n",
       "Name: title, Length: 1554, dtype: int64"
      ]
     },
     "execution_count": 79,
     "metadata": {},
     "output_type": "execute_result"
    }
   ],
   "source": [
    "rating_len"
   ]
  },
  {
   "cell_type": "code",
   "execution_count": 17,
   "id": "21fcfd1a",
   "metadata": {},
   "outputs": [],
   "source": [
    "filtered_movies = rating_len[rating_len > 50].index"
   ]
  },
  {
   "cell_type": "code",
   "execution_count": 81,
   "id": "12f67688",
   "metadata": {},
   "outputs": [
    {
     "data": {
      "text/plain": [
       "Index(['Pulp Fiction (1994)', 'Fight Club (1999)',\n",
       "       'Star Wars: Episode IV - A New Hope (1977)',\n",
       "       'Léon: The Professional (a.k.a. The Professional) (Léon) (1994)',\n",
       "       '2001: A Space Odyssey (1968)',\n",
       "       'Eternal Sunshine of the Spotless Mind (2004)', 'Inception (2010)',\n",
       "       'Big Lebowski, The (1998)', 'Donnie Darko (2001)',\n",
       "       'Forrest Gump (1994)',\n",
       "       ...\n",
       "       'Arachnophobia (1990)', 'Roman Holiday (1953)', 'Caddyshack (1980)',\n",
       "       'Magnolia (1999)', 'Million Dollar Baby (2004)', 'Donnie Brasco (1997)',\n",
       "       'The Devil's Advocate (1997)', 'Dallas Buyers Club (2013)',\n",
       "       'Lara Croft Tomb Raider: The Cradle of Life (2003)', 'Splash (1984)'],\n",
       "      dtype='object', length=480)"
      ]
     },
     "execution_count": 81,
     "metadata": {},
     "output_type": "execute_result"
    }
   ],
   "source": [
    "filtered_movies"
   ]
  },
  {
   "cell_type": "code",
   "execution_count": 18,
   "id": "1ec49dcc",
   "metadata": {},
   "outputs": [],
   "source": [
    "def filtered_movies(ratings_df, movies_df):\n",
    "    # Step 1: Group user ratings based on movieId and apply aggregation operations\n",
    "    grouped_ratings = ratings_df.groupby('movieId').agg({'rating': ['count', 'mean']}).reset_index()\n",
    "    grouped_ratings.columns = ['movieId', 'rating_len', 'rating_mean']\n",
    "\n",
    "    # Step 2: Inner join on movieId\n",
    "    merged_df = pd.merge(movies_df,grouped_ratings, on='movieId', how='inner')\n",
    "\n",
    "    # Step 3: Filter movies with more than 50 user ratings\n",
    "    filtered_movies = merged_df[merged_df['rating_len'] > 50]\n",
    "\n",
    "    return filtered_movies"
   ]
  },
  {
   "cell_type": "code",
   "execution_count": 19,
   "id": "b271c426",
   "metadata": {},
   "outputs": [],
   "source": [
    "ratings_df = pd.DataFrame(data2)\n",
    "movies_df = pd.DataFrame(data)"
   ]
  },
  {
   "cell_type": "code",
   "execution_count": 20,
   "id": "fde20b61",
   "metadata": {},
   "outputs": [],
   "source": [
    "filtered_movies_df = filtered_movies(ratings_df, movies_df)\n"
   ]
  },
  {
   "cell_type": "code",
   "execution_count": 21,
   "id": "5c5973b9",
   "metadata": {},
   "outputs": [
    {
     "data": {
      "text/html": [
       "<div>\n",
       "<style scoped>\n",
       "    .dataframe tbody tr th:only-of-type {\n",
       "        vertical-align: middle;\n",
       "    }\n",
       "\n",
       "    .dataframe tbody tr th {\n",
       "        vertical-align: top;\n",
       "    }\n",
       "\n",
       "    .dataframe thead th {\n",
       "        text-align: right;\n",
       "    }\n",
       "</style>\n",
       "<table border=\"1\" class=\"dataframe\">\n",
       "  <thead>\n",
       "    <tr style=\"text-align: right;\">\n",
       "      <th></th>\n",
       "      <th>movieId</th>\n",
       "      <th>title</th>\n",
       "      <th>genres</th>\n",
       "      <th>rating_len</th>\n",
       "      <th>rating_mean</th>\n",
       "    </tr>\n",
       "  </thead>\n",
       "  <tbody>\n",
       "    <tr>\n",
       "      <th>0</th>\n",
       "      <td>1</td>\n",
       "      <td>Toy Story (1995)</td>\n",
       "      <td>Adventure|Animation|Children|Comedy|Fantasy</td>\n",
       "      <td>215</td>\n",
       "      <td>3.920930</td>\n",
       "    </tr>\n",
       "    <tr>\n",
       "      <th>1</th>\n",
       "      <td>2</td>\n",
       "      <td>Jumanji (1995)</td>\n",
       "      <td>Adventure|Children|Fantasy</td>\n",
       "      <td>110</td>\n",
       "      <td>3.431818</td>\n",
       "    </tr>\n",
       "    <tr>\n",
       "      <th>2</th>\n",
       "      <td>3</td>\n",
       "      <td>Grumpier Old Men (1995)</td>\n",
       "      <td>Comedy|Romance</td>\n",
       "      <td>52</td>\n",
       "      <td>3.259615</td>\n",
       "    </tr>\n",
       "    <tr>\n",
       "      <th>5</th>\n",
       "      <td>6</td>\n",
       "      <td>Heat (1995)</td>\n",
       "      <td>Action|Crime|Thriller</td>\n",
       "      <td>102</td>\n",
       "      <td>3.946078</td>\n",
       "    </tr>\n",
       "    <tr>\n",
       "      <th>6</th>\n",
       "      <td>7</td>\n",
       "      <td>Sabrina (1995)</td>\n",
       "      <td>Comedy|Romance</td>\n",
       "      <td>54</td>\n",
       "      <td>3.185185</td>\n",
       "    </tr>\n",
       "    <tr>\n",
       "      <th>...</th>\n",
       "      <td>...</td>\n",
       "      <td>...</td>\n",
       "      <td>...</td>\n",
       "      <td>...</td>\n",
       "      <td>...</td>\n",
       "    </tr>\n",
       "    <tr>\n",
       "      <th>8287</th>\n",
       "      <td>106782</td>\n",
       "      <td>Wolf of Wall Street, The (2013)</td>\n",
       "      <td>Comedy|Crime|Drama</td>\n",
       "      <td>54</td>\n",
       "      <td>3.916667</td>\n",
       "    </tr>\n",
       "    <tr>\n",
       "      <th>8354</th>\n",
       "      <td>109374</td>\n",
       "      <td>Grand Budapest Hotel, The (2014)</td>\n",
       "      <td>Comedy|Drama</td>\n",
       "      <td>52</td>\n",
       "      <td>3.778846</td>\n",
       "    </tr>\n",
       "    <tr>\n",
       "      <th>8358</th>\n",
       "      <td>109487</td>\n",
       "      <td>Interstellar (2014)</td>\n",
       "      <td>Sci-Fi|IMAX</td>\n",
       "      <td>73</td>\n",
       "      <td>3.993151</td>\n",
       "    </tr>\n",
       "    <tr>\n",
       "      <th>8457</th>\n",
       "      <td>112852</td>\n",
       "      <td>Guardians of the Galaxy (2014)</td>\n",
       "      <td>Action|Adventure|Sci-Fi</td>\n",
       "      <td>59</td>\n",
       "      <td>4.050847</td>\n",
       "    </tr>\n",
       "    <tr>\n",
       "      <th>8673</th>\n",
       "      <td>122904</td>\n",
       "      <td>Deadpool (2016)</td>\n",
       "      <td>Action|Adventure|Comedy|Sci-Fi</td>\n",
       "      <td>54</td>\n",
       "      <td>3.833333</td>\n",
       "    </tr>\n",
       "  </tbody>\n",
       "</table>\n",
       "<p>436 rows × 5 columns</p>\n",
       "</div>"
      ],
      "text/plain": [
       "      movieId                             title  \\\n",
       "0           1                  Toy Story (1995)   \n",
       "1           2                    Jumanji (1995)   \n",
       "2           3           Grumpier Old Men (1995)   \n",
       "5           6                       Heat (1995)   \n",
       "6           7                    Sabrina (1995)   \n",
       "...       ...                               ...   \n",
       "8287   106782   Wolf of Wall Street, The (2013)   \n",
       "8354   109374  Grand Budapest Hotel, The (2014)   \n",
       "8358   109487               Interstellar (2014)   \n",
       "8457   112852    Guardians of the Galaxy (2014)   \n",
       "8673   122904                   Deadpool (2016)   \n",
       "\n",
       "                                           genres  rating_len  rating_mean  \n",
       "0     Adventure|Animation|Children|Comedy|Fantasy         215     3.920930  \n",
       "1                      Adventure|Children|Fantasy         110     3.431818  \n",
       "2                                  Comedy|Romance          52     3.259615  \n",
       "5                           Action|Crime|Thriller         102     3.946078  \n",
       "6                                  Comedy|Romance          54     3.185185  \n",
       "...                                           ...         ...          ...  \n",
       "8287                           Comedy|Crime|Drama          54     3.916667  \n",
       "8354                                 Comedy|Drama          52     3.778846  \n",
       "8358                                  Sci-Fi|IMAX          73     3.993151  \n",
       "8457                      Action|Adventure|Sci-Fi          59     4.050847  \n",
       "8673               Action|Adventure|Comedy|Sci-Fi          54     3.833333  \n",
       "\n",
       "[436 rows x 5 columns]"
      ]
     },
     "execution_count": 21,
     "metadata": {},
     "output_type": "execute_result"
    }
   ],
   "source": [
    "filtered_movies_df"
   ]
  },
  {
   "cell_type": "code",
   "execution_count": 22,
   "id": "4c45c53d",
   "metadata": {},
   "outputs": [],
   "source": [
    "most_popular_movie = filtered_movies_df.loc[filtered_movies_df['rating_mean'].idxmax()]"
   ]
  },
  {
   "cell_type": "code",
   "execution_count": 23,
   "id": "7b054f02",
   "metadata": {},
   "outputs": [
    {
     "data": {
      "text/plain": [
       "movieId                                     318\n",
       "title          Shawshank Redemption, The (1994)\n",
       "genres                              Crime|Drama\n",
       "rating_len                                  317\n",
       "rating_mean                            4.429022\n",
       "Name: 277, dtype: object"
      ]
     },
     "execution_count": 23,
     "metadata": {},
     "output_type": "execute_result"
    }
   ],
   "source": [
    "most_popular_movie"
   ]
  },
  {
   "cell_type": "code",
   "execution_count": 24,
   "id": "44bc77d8",
   "metadata": {},
   "outputs": [],
   "source": [
    "popular_movies = filtered_movies_df.nlargest(5, 'rating_len')"
   ]
  },
  {
   "cell_type": "code",
   "execution_count": 25,
   "id": "df124d95",
   "metadata": {},
   "outputs": [
    {
     "data": {
      "text/html": [
       "<div>\n",
       "<style scoped>\n",
       "    .dataframe tbody tr th:only-of-type {\n",
       "        vertical-align: middle;\n",
       "    }\n",
       "\n",
       "    .dataframe tbody tr th {\n",
       "        vertical-align: top;\n",
       "    }\n",
       "\n",
       "    .dataframe thead th {\n",
       "        text-align: right;\n",
       "    }\n",
       "</style>\n",
       "<table border=\"1\" class=\"dataframe\">\n",
       "  <thead>\n",
       "    <tr style=\"text-align: right;\">\n",
       "      <th></th>\n",
       "      <th>movieId</th>\n",
       "      <th>title</th>\n",
       "      <th>genres</th>\n",
       "      <th>rating_len</th>\n",
       "      <th>rating_mean</th>\n",
       "    </tr>\n",
       "  </thead>\n",
       "  <tbody>\n",
       "    <tr>\n",
       "      <th>314</th>\n",
       "      <td>356</td>\n",
       "      <td>Forrest Gump (1994)</td>\n",
       "      <td>Comedy|Drama|Romance|War</td>\n",
       "      <td>329</td>\n",
       "      <td>4.164134</td>\n",
       "    </tr>\n",
       "    <tr>\n",
       "      <th>277</th>\n",
       "      <td>318</td>\n",
       "      <td>Shawshank Redemption, The (1994)</td>\n",
       "      <td>Crime|Drama</td>\n",
       "      <td>317</td>\n",
       "      <td>4.429022</td>\n",
       "    </tr>\n",
       "    <tr>\n",
       "      <th>257</th>\n",
       "      <td>296</td>\n",
       "      <td>Pulp Fiction (1994)</td>\n",
       "      <td>Comedy|Crime|Drama|Thriller</td>\n",
       "      <td>307</td>\n",
       "      <td>4.197068</td>\n",
       "    </tr>\n",
       "    <tr>\n",
       "      <th>510</th>\n",
       "      <td>593</td>\n",
       "      <td>Silence of the Lambs, The (1991)</td>\n",
       "      <td>Crime|Horror|Thriller</td>\n",
       "      <td>279</td>\n",
       "      <td>4.161290</td>\n",
       "    </tr>\n",
       "    <tr>\n",
       "      <th>1938</th>\n",
       "      <td>2571</td>\n",
       "      <td>Matrix, The (1999)</td>\n",
       "      <td>Action|Sci-Fi|Thriller</td>\n",
       "      <td>278</td>\n",
       "      <td>4.192446</td>\n",
       "    </tr>\n",
       "  </tbody>\n",
       "</table>\n",
       "</div>"
      ],
      "text/plain": [
       "      movieId                             title                       genres  \\\n",
       "314       356               Forrest Gump (1994)     Comedy|Drama|Romance|War   \n",
       "277       318  Shawshank Redemption, The (1994)                  Crime|Drama   \n",
       "257       296               Pulp Fiction (1994)  Comedy|Crime|Drama|Thriller   \n",
       "510       593  Silence of the Lambs, The (1991)        Crime|Horror|Thriller   \n",
       "1938     2571                Matrix, The (1999)       Action|Sci-Fi|Thriller   \n",
       "\n",
       "      rating_len  rating_mean  \n",
       "314          329     4.164134  \n",
       "277          317     4.429022  \n",
       "257          307     4.197068  \n",
       "510          279     4.161290  \n",
       "1938         278     4.192446  "
      ]
     },
     "execution_count": 25,
     "metadata": {},
     "output_type": "execute_result"
    }
   ],
   "source": [
    "popular_movies"
   ]
  },
  {
   "cell_type": "code",
   "execution_count": 26,
   "id": "162b9880",
   "metadata": {},
   "outputs": [],
   "source": [
    "sci_fi_movies = filtered_movies_df[filtered_movies_df['genres'].str.contains('Sci-Fi')]"
   ]
  },
  {
   "cell_type": "code",
   "execution_count": 27,
   "id": "706ceee9",
   "metadata": {},
   "outputs": [],
   "source": [
    "sci_fi_3 = sci_fi_movies.nlargest(3, 'rating_len')\n"
   ]
  },
  {
   "cell_type": "code",
   "execution_count": 28,
   "id": "7d31ada2",
   "metadata": {},
   "outputs": [
    {
     "data": {
      "text/html": [
       "<div>\n",
       "<style scoped>\n",
       "    .dataframe tbody tr th:only-of-type {\n",
       "        vertical-align: middle;\n",
       "    }\n",
       "\n",
       "    .dataframe tbody tr th {\n",
       "        vertical-align: top;\n",
       "    }\n",
       "\n",
       "    .dataframe thead th {\n",
       "        text-align: right;\n",
       "    }\n",
       "</style>\n",
       "<table border=\"1\" class=\"dataframe\">\n",
       "  <thead>\n",
       "    <tr style=\"text-align: right;\">\n",
       "      <th></th>\n",
       "      <th>movieId</th>\n",
       "      <th>title</th>\n",
       "      <th>genres</th>\n",
       "      <th>rating_len</th>\n",
       "      <th>rating_mean</th>\n",
       "    </tr>\n",
       "  </thead>\n",
       "  <tbody>\n",
       "    <tr>\n",
       "      <th>1938</th>\n",
       "      <td>2571</td>\n",
       "      <td>Matrix, The (1999)</td>\n",
       "      <td>Action|Sci-Fi|Thriller</td>\n",
       "      <td>278</td>\n",
       "      <td>4.192446</td>\n",
       "    </tr>\n",
       "    <tr>\n",
       "      <th>224</th>\n",
       "      <td>260</td>\n",
       "      <td>Star Wars: Episode IV - A New Hope (1977)</td>\n",
       "      <td>Action|Adventure|Sci-Fi</td>\n",
       "      <td>251</td>\n",
       "      <td>4.231076</td>\n",
       "    </tr>\n",
       "    <tr>\n",
       "      <th>418</th>\n",
       "      <td>480</td>\n",
       "      <td>Jurassic Park (1993)</td>\n",
       "      <td>Action|Adventure|Sci-Fi|Thriller</td>\n",
       "      <td>238</td>\n",
       "      <td>3.750000</td>\n",
       "    </tr>\n",
       "  </tbody>\n",
       "</table>\n",
       "</div>"
      ],
      "text/plain": [
       "      movieId                                      title  \\\n",
       "1938     2571                         Matrix, The (1999)   \n",
       "224       260  Star Wars: Episode IV - A New Hope (1977)   \n",
       "418       480                       Jurassic Park (1993)   \n",
       "\n",
       "                                genres  rating_len  rating_mean  \n",
       "1938            Action|Sci-Fi|Thriller         278     4.192446  \n",
       "224            Action|Adventure|Sci-Fi         251     4.231076  \n",
       "418   Action|Adventure|Sci-Fi|Thriller         238     3.750000  "
      ]
     },
     "execution_count": 28,
     "metadata": {},
     "output_type": "execute_result"
    }
   ],
   "source": [
    "sci_fi_3"
   ]
  },
  {
   "cell_type": "code",
   "execution_count": 29,
   "id": "90063507",
   "metadata": {},
   "outputs": [],
   "source": [
    "data4=pd.read_csv(r\"C:\\Users\\user\\Downloads\\movie_data\\links.csv\")"
   ]
  },
  {
   "cell_type": "code",
   "execution_count": 30,
   "id": "7697eb8f",
   "metadata": {},
   "outputs": [
    {
     "data": {
      "text/plain": [
       "(9742, 3)"
      ]
     },
     "execution_count": 30,
     "metadata": {},
     "output_type": "execute_result"
    }
   ],
   "source": [
    "data4.shape"
   ]
  },
  {
   "cell_type": "code",
   "execution_count": 123,
   "id": "f1d0f688",
   "metadata": {},
   "outputs": [],
   "source": [
    "def scrapper(imdbId):\n",
    "    id = str(int(imdbId))\n",
    "    n_zeroes = 7 - len(id)\n",
    "    new_id = \"0\"*n_zeroes + id\n",
    "    URL = f\"https://www.imdb.com/title/tt{new_id}/\"\n",
    "    request_header = {'Content-Type': 'text/html; charset=UTF-8', \n",
    "                      'User-Agent': 'Mozilla/5.0 (Windows NT 10.0; Win64; x64; rv:109.0) Gecko/20100101 Firefox/119.0', \n",
    "                      'Accept-Encoding': 'gzip, deflate, br'}\n",
    "    response = requests.FILL_IN_THE_BLANK(URL, headers=request_header)\n",
    "    soup = FILL_IN_THE_BLANK(response.text)\n",
    "    imdb_rating = soup.find('FILL_IN_THE_BLANK', attrs={'FILL_IN_THE_BLANK' : 'FILL_IN_THE_BLANK'})\n",
    "    return imdb_rating.text if imdb_rating else np.nan"
   ]
  },
  {
   "cell_type": "code",
   "execution_count": 124,
   "id": "48f8474e",
   "metadata": {},
   "outputs": [
    {
     "data": {
      "text/html": [
       "<div>\n",
       "<style scoped>\n",
       "    .dataframe tbody tr th:only-of-type {\n",
       "        vertical-align: middle;\n",
       "    }\n",
       "\n",
       "    .dataframe tbody tr th {\n",
       "        vertical-align: top;\n",
       "    }\n",
       "\n",
       "    .dataframe thead th {\n",
       "        text-align: right;\n",
       "    }\n",
       "</style>\n",
       "<table border=\"1\" class=\"dataframe\">\n",
       "  <thead>\n",
       "    <tr style=\"text-align: right;\">\n",
       "      <th></th>\n",
       "      <th>movieId</th>\n",
       "      <th>imdbId</th>\n",
       "      <th>tmdbId</th>\n",
       "    </tr>\n",
       "  </thead>\n",
       "  <tbody>\n",
       "    <tr>\n",
       "      <th>0</th>\n",
       "      <td>1</td>\n",
       "      <td>114709</td>\n",
       "      <td>862.0</td>\n",
       "    </tr>\n",
       "    <tr>\n",
       "      <th>1</th>\n",
       "      <td>2</td>\n",
       "      <td>113497</td>\n",
       "      <td>8844.0</td>\n",
       "    </tr>\n",
       "    <tr>\n",
       "      <th>2</th>\n",
       "      <td>3</td>\n",
       "      <td>113228</td>\n",
       "      <td>15602.0</td>\n",
       "    </tr>\n",
       "    <tr>\n",
       "      <th>3</th>\n",
       "      <td>4</td>\n",
       "      <td>114885</td>\n",
       "      <td>31357.0</td>\n",
       "    </tr>\n",
       "    <tr>\n",
       "      <th>4</th>\n",
       "      <td>5</td>\n",
       "      <td>113041</td>\n",
       "      <td>11862.0</td>\n",
       "    </tr>\n",
       "  </tbody>\n",
       "</table>\n",
       "</div>"
      ],
      "text/plain": [
       "   movieId  imdbId   tmdbId\n",
       "0        1  114709    862.0\n",
       "1        2  113497   8844.0\n",
       "2        3  113228  15602.0\n",
       "3        4  114885  31357.0\n",
       "4        5  113041  11862.0"
      ]
     },
     "execution_count": 124,
     "metadata": {},
     "output_type": "execute_result"
    }
   ],
   "source": [
    "data4.head()"
   ]
  },
  {
   "cell_type": "code",
   "execution_count": 35,
   "id": "7369d759",
   "metadata": {},
   "outputs": [],
   "source": [
    "df3=pd.merge(filtered_movies_df,data4,on=\"movieId\")"
   ]
  },
  {
   "cell_type": "code",
   "execution_count": 36,
   "id": "d7c11a0b",
   "metadata": {},
   "outputs": [
    {
     "data": {
      "text/html": [
       "<div>\n",
       "<style scoped>\n",
       "    .dataframe tbody tr th:only-of-type {\n",
       "        vertical-align: middle;\n",
       "    }\n",
       "\n",
       "    .dataframe tbody tr th {\n",
       "        vertical-align: top;\n",
       "    }\n",
       "\n",
       "    .dataframe thead th {\n",
       "        text-align: right;\n",
       "    }\n",
       "</style>\n",
       "<table border=\"1\" class=\"dataframe\">\n",
       "  <thead>\n",
       "    <tr style=\"text-align: right;\">\n",
       "      <th></th>\n",
       "      <th>movieId</th>\n",
       "      <th>title</th>\n",
       "      <th>genres</th>\n",
       "      <th>rating_len</th>\n",
       "      <th>rating_mean</th>\n",
       "      <th>imdbId</th>\n",
       "      <th>tmdbId</th>\n",
       "    </tr>\n",
       "  </thead>\n",
       "  <tbody>\n",
       "    <tr>\n",
       "      <th>0</th>\n",
       "      <td>1</td>\n",
       "      <td>Toy Story (1995)</td>\n",
       "      <td>Adventure|Animation|Children|Comedy|Fantasy</td>\n",
       "      <td>215</td>\n",
       "      <td>3.920930</td>\n",
       "      <td>114709</td>\n",
       "      <td>862.0</td>\n",
       "    </tr>\n",
       "    <tr>\n",
       "      <th>1</th>\n",
       "      <td>2</td>\n",
       "      <td>Jumanji (1995)</td>\n",
       "      <td>Adventure|Children|Fantasy</td>\n",
       "      <td>110</td>\n",
       "      <td>3.431818</td>\n",
       "      <td>113497</td>\n",
       "      <td>8844.0</td>\n",
       "    </tr>\n",
       "    <tr>\n",
       "      <th>2</th>\n",
       "      <td>3</td>\n",
       "      <td>Grumpier Old Men (1995)</td>\n",
       "      <td>Comedy|Romance</td>\n",
       "      <td>52</td>\n",
       "      <td>3.259615</td>\n",
       "      <td>113228</td>\n",
       "      <td>15602.0</td>\n",
       "    </tr>\n",
       "    <tr>\n",
       "      <th>3</th>\n",
       "      <td>6</td>\n",
       "      <td>Heat (1995)</td>\n",
       "      <td>Action|Crime|Thriller</td>\n",
       "      <td>102</td>\n",
       "      <td>3.946078</td>\n",
       "      <td>113277</td>\n",
       "      <td>949.0</td>\n",
       "    </tr>\n",
       "    <tr>\n",
       "      <th>4</th>\n",
       "      <td>7</td>\n",
       "      <td>Sabrina (1995)</td>\n",
       "      <td>Comedy|Romance</td>\n",
       "      <td>54</td>\n",
       "      <td>3.185185</td>\n",
       "      <td>114319</td>\n",
       "      <td>11860.0</td>\n",
       "    </tr>\n",
       "    <tr>\n",
       "      <th>...</th>\n",
       "      <td>...</td>\n",
       "      <td>...</td>\n",
       "      <td>...</td>\n",
       "      <td>...</td>\n",
       "      <td>...</td>\n",
       "      <td>...</td>\n",
       "      <td>...</td>\n",
       "    </tr>\n",
       "    <tr>\n",
       "      <th>431</th>\n",
       "      <td>106782</td>\n",
       "      <td>Wolf of Wall Street, The (2013)</td>\n",
       "      <td>Comedy|Crime|Drama</td>\n",
       "      <td>54</td>\n",
       "      <td>3.916667</td>\n",
       "      <td>993846</td>\n",
       "      <td>106646.0</td>\n",
       "    </tr>\n",
       "    <tr>\n",
       "      <th>432</th>\n",
       "      <td>109374</td>\n",
       "      <td>Grand Budapest Hotel, The (2014)</td>\n",
       "      <td>Comedy|Drama</td>\n",
       "      <td>52</td>\n",
       "      <td>3.778846</td>\n",
       "      <td>2278388</td>\n",
       "      <td>120467.0</td>\n",
       "    </tr>\n",
       "    <tr>\n",
       "      <th>433</th>\n",
       "      <td>109487</td>\n",
       "      <td>Interstellar (2014)</td>\n",
       "      <td>Sci-Fi|IMAX</td>\n",
       "      <td>73</td>\n",
       "      <td>3.993151</td>\n",
       "      <td>816692</td>\n",
       "      <td>157336.0</td>\n",
       "    </tr>\n",
       "    <tr>\n",
       "      <th>434</th>\n",
       "      <td>112852</td>\n",
       "      <td>Guardians of the Galaxy (2014)</td>\n",
       "      <td>Action|Adventure|Sci-Fi</td>\n",
       "      <td>59</td>\n",
       "      <td>4.050847</td>\n",
       "      <td>2015381</td>\n",
       "      <td>118340.0</td>\n",
       "    </tr>\n",
       "    <tr>\n",
       "      <th>435</th>\n",
       "      <td>122904</td>\n",
       "      <td>Deadpool (2016)</td>\n",
       "      <td>Action|Adventure|Comedy|Sci-Fi</td>\n",
       "      <td>54</td>\n",
       "      <td>3.833333</td>\n",
       "      <td>1431045</td>\n",
       "      <td>293660.0</td>\n",
       "    </tr>\n",
       "  </tbody>\n",
       "</table>\n",
       "<p>436 rows × 7 columns</p>\n",
       "</div>"
      ],
      "text/plain": [
       "     movieId                             title  \\\n",
       "0          1                  Toy Story (1995)   \n",
       "1          2                    Jumanji (1995)   \n",
       "2          3           Grumpier Old Men (1995)   \n",
       "3          6                       Heat (1995)   \n",
       "4          7                    Sabrina (1995)   \n",
       "..       ...                               ...   \n",
       "431   106782   Wolf of Wall Street, The (2013)   \n",
       "432   109374  Grand Budapest Hotel, The (2014)   \n",
       "433   109487               Interstellar (2014)   \n",
       "434   112852    Guardians of the Galaxy (2014)   \n",
       "435   122904                   Deadpool (2016)   \n",
       "\n",
       "                                          genres  rating_len  rating_mean  \\\n",
       "0    Adventure|Animation|Children|Comedy|Fantasy         215     3.920930   \n",
       "1                     Adventure|Children|Fantasy         110     3.431818   \n",
       "2                                 Comedy|Romance          52     3.259615   \n",
       "3                          Action|Crime|Thriller         102     3.946078   \n",
       "4                                 Comedy|Romance          54     3.185185   \n",
       "..                                           ...         ...          ...   \n",
       "431                           Comedy|Crime|Drama          54     3.916667   \n",
       "432                                 Comedy|Drama          52     3.778846   \n",
       "433                                  Sci-Fi|IMAX          73     3.993151   \n",
       "434                      Action|Adventure|Sci-Fi          59     4.050847   \n",
       "435               Action|Adventure|Comedy|Sci-Fi          54     3.833333   \n",
       "\n",
       "      imdbId    tmdbId  \n",
       "0     114709     862.0  \n",
       "1     113497    8844.0  \n",
       "2     113228   15602.0  \n",
       "3     113277     949.0  \n",
       "4     114319   11860.0  \n",
       "..       ...       ...  \n",
       "431   993846  106646.0  \n",
       "432  2278388  120467.0  \n",
       "433   816692  157336.0  \n",
       "434  2015381  118340.0  \n",
       "435  1431045  293660.0  \n",
       "\n",
       "[436 rows x 7 columns]"
      ]
     },
     "execution_count": 36,
     "metadata": {},
     "output_type": "execute_result"
    }
   ],
   "source": [
    "df3"
   ]
  },
  {
   "cell_type": "code",
   "execution_count": 39,
   "id": "10d150b1",
   "metadata": {},
   "outputs": [],
   "source": [
    "movie_with_highest_imdb_rating = df3.loc[df3['imdbId'].idxmax()]"
   ]
  },
  {
   "cell_type": "code",
   "execution_count": 40,
   "id": "f55c30c6",
   "metadata": {},
   "outputs": [
    {
     "data": {
      "text/plain": [
       "movieId                                  109374\n",
       "title          Grand Budapest Hotel, The (2014)\n",
       "genres                             Comedy|Drama\n",
       "rating_len                                   52\n",
       "rating_mean                            3.778846\n",
       "imdbId                                  2278388\n",
       "tmdbId                                 120467.0\n",
       "Name: 432, dtype: object"
      ]
     },
     "execution_count": 40,
     "metadata": {},
     "output_type": "execute_result"
    }
   ],
   "source": [
    "movie_with_highest_imdb_rating\n"
   ]
  },
  {
   "cell_type": "code",
   "execution_count": 42,
   "id": "25126ce5",
   "metadata": {},
   "outputs": [],
   "source": [
    "sci_fi_movies = df3[df3['genres'].str.contains('Sci-Fi')]\n",
    "\n",
    "sci_fi_movie_id = sci_fi_movies['movieId']"
   ]
  },
  {
   "cell_type": "code",
   "execution_count": 44,
   "id": "8148d039",
   "metadata": {},
   "outputs": [
    {
     "data": {
      "text/plain": [
       "122904"
      ]
     },
     "execution_count": 44,
     "metadata": {},
     "output_type": "execute_result"
    }
   ],
   "source": [
    "sci_fi_movie_id.max()"
   ]
  },
  {
   "cell_type": "code",
   "execution_count": 45,
   "id": "f6bf67d7",
   "metadata": {},
   "outputs": [],
   "source": [
    "sci_fi_movies = df3[df3['genres'].str.contains('Sci-Fi')]\n",
    "sci_fi_movie_id = sci_fi_movies.loc[sci_fi_movies['imdbId'].idxmax(), 'movieId']"
   ]
  },
  {
   "cell_type": "code",
   "execution_count": 46,
   "id": "acaff350",
   "metadata": {},
   "outputs": [
    {
     "data": {
      "text/plain": [
       "112852"
      ]
     },
     "execution_count": 46,
     "metadata": {},
     "output_type": "execute_result"
    }
   ],
   "source": [
    "sci_fi_movie_id "
   ]
  },
  {
   "cell_type": "code",
   "execution_count": 49,
   "id": "36d4d586",
   "metadata": {},
   "outputs": [
    {
     "name": "stdout",
     "output_type": "stream",
     "text": [
      "     movieId                             title  \\\n",
      "0          1                  Toy Story (1995)   \n",
      "1          2                    Jumanji (1995)   \n",
      "2          3           Grumpier Old Men (1995)   \n",
      "3          6                       Heat (1995)   \n",
      "4          7                    Sabrina (1995)   \n",
      "..       ...                               ...   \n",
      "431   106782   Wolf of Wall Street, The (2013)   \n",
      "432   109374  Grand Budapest Hotel, The (2014)   \n",
      "433   109487               Interstellar (2014)   \n",
      "434   112852    Guardians of the Galaxy (2014)   \n",
      "435   122904                   Deadpool (2016)   \n",
      "\n",
      "                                          genres  rating_len  rating_mean  \\\n",
      "0    Adventure|Animation|Children|Comedy|Fantasy         215     3.920930   \n",
      "1                     Adventure|Children|Fantasy         110     3.431818   \n",
      "2                                 Comedy|Romance          52     3.259615   \n",
      "3                          Action|Crime|Thriller         102     3.946078   \n",
      "4                                 Comedy|Romance          54     3.185185   \n",
      "..                                           ...         ...          ...   \n",
      "431                           Comedy|Crime|Drama          54     3.916667   \n",
      "432                                 Comedy|Drama          52     3.778846   \n",
      "433                                  Sci-Fi|IMAX          73     3.993151   \n",
      "434                      Action|Adventure|Sci-Fi          59     4.050847   \n",
      "435               Action|Adventure|Comedy|Sci-Fi          54     3.833333   \n",
      "\n",
      "      imdbId    tmdbId imdb_rating  \n",
      "0     114709     862.0        None  \n",
      "1     113497    8844.0        None  \n",
      "2     113228   15602.0        None  \n",
      "3     113277     949.0        None  \n",
      "4     114319   11860.0        None  \n",
      "..       ...       ...         ...  \n",
      "431   993846  106646.0        None  \n",
      "432  2278388  120467.0        None  \n",
      "433   816692  157336.0        None  \n",
      "434  2015381  118340.0        None  \n",
      "435  1431045  293660.0        None  \n",
      "\n",
      "[436 rows x 8 columns]\n"
     ]
    }
   ],
   "source": [
    "\n",
    "\n",
    "def scrape_imdb_ratings(imdb_id):\n",
    "    URL = f\"https://www.imdb.com/title/{imdb_id}/\"\n",
    "\n",
    "    headers = {\n",
    "        'User-Agent': 'Mozilla/5.0 (Windows NT 10.0; Win64; x64) AppleWebKit/537.36 (KHTML, like Gecko) Chrome/91.0.4472.124 Safari/537.36'\n",
    "    }\n",
    "\n",
    "    response = requests.get(URL, headers=headers)\n",
    "\n",
    "    if response.status_code == 200:\n",
    "        soup = BeautifulSoup(response.text, 'html.parser')\n",
    "        imdb_rating_tag = soup.find('span', {'itemprop': 'ratingValue'})\n",
    "\n",
    "        return imdb_rating_tag.text if imdb_rating_tag else None\n",
    "    else:\n",
    "        return None\n",
    "\n",
    "ratings_df = df3 \n",
    "ratings_df['imdb_rating'] = ratings_df['imdbId'].apply(scrape_imdb_ratings)\n",
    "\n",
    "print(ratings_df)\n"
   ]
  },
  {
   "cell_type": "code",
   "execution_count": null,
   "id": "67480b29",
   "metadata": {},
   "outputs": [],
   "source": []
  }
 ],
 "metadata": {
  "kernelspec": {
   "display_name": "Python 3 (ipykernel)",
   "language": "python",
   "name": "python3"
  },
  "language_info": {
   "codemirror_mode": {
    "name": "ipython",
    "version": 3
   },
   "file_extension": ".py",
   "mimetype": "text/x-python",
   "name": "python",
   "nbconvert_exporter": "python",
   "pygments_lexer": "ipython3",
   "version": "3.10.9"
  }
 },
 "nbformat": 4,
 "nbformat_minor": 5
}
